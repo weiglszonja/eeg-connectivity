{
 "cells": [
  {
   "cell_type": "code",
   "execution_count": 44,
   "metadata": {},
   "outputs": [],
   "source": [
    "import os\n",
    "import numpy as np\n",
    "import pandas as pd\n",
    "from scipy.stats import spearmanr\n",
    "\n",
    "from matplotlib import pyplot as plt\n",
    "import seaborn as sns\n",
    "\n",
    "from utils.settings import periods, frequency_bands, ROI\n",
    "\n",
    "freqs = []\n",
    "for mode in list(frequency_bands.keys()):\n",
    "    freqs.extend(list(frequency_bands[mode].keys()))\n",
    "    \n",
    "channels_in_order = []\n",
    "for channels in list(ROI.values()):\n",
    "    channels_in_order.extend(channels)"
   ]
  },
  {
   "cell_type": "markdown",
   "metadata": {},
   "source": [
    "## Compute correlations between connectivity and behavior\n",
    "### Sample notebook "
   ]
  },
  {
   "cell_type": "markdown",
   "metadata": {},
   "source": [
    "#### Load behavior data"
   ]
  },
  {
   "cell_type": "code",
   "execution_count": 2,
   "metadata": {},
   "outputs": [],
   "source": [
    "# Specify path to behavior data \n",
    "behav_path = 'ASRT_connect_consol_behav_selected_zs.csv'"
   ]
  },
  {
   "cell_type": "code",
   "execution_count": 3,
   "metadata": {},
   "outputs": [],
   "source": [
    "def load_behaviour_data_from_path(path):\n",
    "    \"\"\"\n",
    "    Loads behavior data from given path. Renames columns to make it more readable.\n",
    "    Returns a dataframe with the selected columns.\n",
    "    \"\"\"\n",
    "    print(f'\\nLoading behaviour data from: {path}')\n",
    "    df = pd.read_csv(path, sep=';', decimal=\",\")\n",
    "\n",
    "    columns_readable = {'hldif_Session_I': 's1_hldif_rt',\n",
    "                        'hldif_Session_I_acc': 's1_hldif_acc',\n",
    "                        'hldif4': 's2_hldif_rt',\n",
    "                        'hldif4_acc': 's2_hldif_acc'}\n",
    "\n",
    "    df.rename(columns=columns_readable, inplace=True)\n",
    "\n",
    "    selected_columns = ['Subject'] + ['s1_hldif_rt', 's1_hldif_acc',\n",
    "                                      's2_hldif_rt', 's2_hldif_acc',\n",
    "                                      'konsz_rt', 'konsz_acc',\n",
    "                                      'gs_konsz_rt', 'gs_konsz_acc']\n",
    "\n",
    "    print(df[selected_columns].head(10))\n",
    "\n",
    "    return df[selected_columns]"
   ]
  },
  {
   "cell_type": "code",
   "execution_count": 4,
   "metadata": {},
   "outputs": [
    {
     "name": "stdout",
     "output_type": "stream",
     "text": [
      "\n",
      "Loading behaviour data from: /Users/weian/research/crnl/eeg-connectivity-analysis/ASRT_connect_consol_behav_selected_zs.csv\n",
      "   Subject  s1_hldif_rt  s1_hldif_acc  s2_hldif_rt  s2_hldif_acc  konsz_rt  \\\n",
      "0        1     7.500000      0.039356         16.0      0.037931       9.5   \n",
      "1        2    14.833333      0.046963         15.0      0.104822       6.0   \n",
      "2        3     3.000000     -0.018952         -3.5     -0.028202      -9.5   \n",
      "3        4    10.166667      0.008487          9.0      0.010783      -4.0   \n",
      "4        5     4.333333      0.055089         11.0      0.044036      -2.0   \n",
      "5        6    20.166667      0.041596         13.5      0.057851     -10.5   \n",
      "6        7     8.500000      0.024006         16.5      0.053761       6.5   \n",
      "7        8     3.500000      0.006222          1.0      0.045025      -1.0   \n",
      "8        9     9.333333      0.071757          8.5      0.051890      -6.0   \n",
      "9       11    -1.166667      0.054954         10.0      0.052332      14.5   \n",
      "\n",
      "   konsz_acc  gs_konsz_rt  gs_konsz_acc  \n",
      "0  -0.011716        -38.5      0.063055  \n",
      "1   0.013116         -4.0      0.033390  \n",
      "2  -0.047495        -35.5      0.132737  \n",
      "3  -0.027699         -3.5      0.037792  \n",
      "4  -0.006763        -11.0      0.029546  \n",
      "5   0.042018        -22.0     -0.016030  \n",
      "6   0.032751        -13.0     -0.002785  \n",
      "7   0.052028        -13.0     -0.002831  \n",
      "8   0.025480        -20.5      0.015888  \n",
      "9   0.009426         -3.0      0.001124  \n"
     ]
    }
   ],
   "source": [
    "behav_data = load_behaviour_data_from_path(path=behav_path)"
   ]
  },
  {
   "cell_type": "markdown",
   "metadata": {},
   "source": [
    "#### Load the connectivity file(s)"
   ]
  },
  {
   "cell_type": "code",
   "execution_count": 47,
   "metadata": {},
   "outputs": [
    {
     "name": "stdout",
     "output_type": "stream",
     "text": [
      "subjects_wpli_ch_conn.npy\n",
      "subjects_wpli_roi_conn.npy\n"
     ]
    }
   ],
   "source": [
    "# Specify path to resting data\n",
    "rs_path = '.../result/rs/wpli'\n",
    "\n",
    "ch_conn_fname, roi_conn_fname = [file for file in sorted(os.listdir(rs_path)) if file.endswith('.npy')]\n",
    "print(ch_conn_fname)\n",
    "print(roi_conn_fname)"
   ]
  },
  {
   "cell_type": "code",
   "execution_count": 33,
   "metadata": {},
   "outputs": [],
   "source": [
    "def load_connectivity_matrix_from_path(path: str) -> np.ndarray:\n",
    "    \"\"\"\n",
    "    Loads a channel connectivity matrix (.npy) into multidimensional array.\n",
    "    Checks the shape of the matrix to match the expected number of dimensions:\n",
    "    (n_subjects, n_periods, n_frequencies, n_channels, n_channels)\n",
    "\n",
    "    Args:\n",
    "    str path: the path to the channel connectivity matrix\n",
    "    :return: the loaded channel matrix with a shape of\n",
    "    (n_subjects, n_periods, n_frequencies, n_channels, n_channels)\n",
    "    \"\"\"\n",
    "    \n",
    "    print(f'Reading matrix from {path}\\n')\n",
    "    conn = np.load(path)\n",
    "    assert len(conn.shape) == 5\n",
    "    print(f'Shape of matrix: {conn.shape}\\n'\n",
    "                 f'Description of dimensions: \\n'\n",
    "                 f'Number of subjects: {conn.shape[0]}\\n'\n",
    "                 f'Number of periods: {conn.shape[1]}\\n'\n",
    "                 f'Number of frequency bands: {conn.shape[2]}\\n'\n",
    "                 f'Channel connectivity matrix: '\n",
    "                 f'{conn.shape[3]} x {conn.shape[4]}\\n')\n",
    "\n",
    "    return conn"
   ]
  },
  {
   "cell_type": "code",
   "execution_count": 48,
   "metadata": {},
   "outputs": [
    {
     "name": "stdout",
     "output_type": "stream",
     "text": [
      "Reading matrix from /Users/weian/research/crnl/eeg-connectivity-analysis/result/rs/wpli/subjects_wpli_ch_conn.npy\n",
      "\n",
      "Shape of matrix: (30, 4, 5, 47, 47)\n",
      "Description of dimensions: \n",
      "Number of subjects: 30\n",
      "Number of periods: 4\n",
      "Number of frequency bands: 5\n",
      "Channel connectivity matrix: 47 x 47\n",
      "\n",
      "Reading matrix from /Users/weian/research/crnl/eeg-connectivity-analysis/result/rs/wpli/subjects_wpli_roi_conn.npy\n",
      "\n",
      "Shape of matrix: (30, 4, 5, 11, 11)\n",
      "Description of dimensions: \n",
      "Number of subjects: 30\n",
      "Number of periods: 4\n",
      "Number of frequency bands: 5\n",
      "Channel connectivity matrix: 11 x 11\n",
      "\n"
     ]
    }
   ],
   "source": [
    "# Load channel connectivity matrix\n",
    "rs_wpli_ch_conn = load_connectivity_matrix_from_path(path=os.path.join(rs_path, ch_conn_fname))\n",
    "\n",
    "# Load ROI matrix\n",
    "rs_wpli_roi_conn = load_connectivity_matrix_from_path(path=os.path.join(rs_path, roi_conn_fname))"
   ]
  },
  {
   "cell_type": "markdown",
   "metadata": {},
   "source": [
    "#### Calculate correlations\n",
    "##### Uncorrected Spearman R-values"
   ]
  },
  {
   "cell_type": "code",
   "execution_count": 36,
   "metadata": {},
   "outputs": [],
   "source": [
    "def uncorrected_spearmanr(conn, behav_vector):\n",
    "    \"\"\"\n",
    "    Calculates Spearman correlations between connectivity matrix (n_subjects, n_channels, n_channels) \n",
    "    and behavior data (n_subjects,). \n",
    "    The correlations are calculated by iterating over the NxN connectivity matrix\n",
    "    and selecting the connectivity values at each cell for every subject. For each iteration the Spearman \n",
    "    correlation is computed between the connectivity measures (n_subjects,) and the behavior data (n_subjects,).\n",
    "    Returns a dataFrame with the observed R values for each cell in an NxN correlation matrix.\n",
    "    \"\"\"\n",
    "\n",
    "    if conn.shape[-1] > len(list(ROI.keys())):\n",
    "        labels = channels_in_order\n",
    "    else:\n",
    "        labels = list(ROI.keys())\n",
    "        \n",
    "    assert conn.shape[0] == len(behav_vector)\n",
    "    observed_corr = np.zeros((conn.shape[-1], conn.shape[-1]))\n",
    "\n",
    "    # calculate observed r-values\n",
    "    for row in range(conn.shape[-1]):\n",
    "        for column in range(conn.shape[-1]):\n",
    "            # ignore upper triangle with zero values\n",
    "            if all(v == 0 for v in conn[:, row, column]):\n",
    "                observed_corr[row][column] = 0.0\n",
    "            else:\n",
    "                observed_r, observed_p = spearmanr(conn[:, row, column],\n",
    "                                                   behav_vector)\n",
    "\n",
    "                observed_corr[row][column] = observed_r\n",
    "\n",
    "    df = pd.DataFrame(data=observed_corr, index=labels, columns=labels)\n",
    "    return df"
   ]
  },
  {
   "cell_type": "code",
   "execution_count": 97,
   "metadata": {},
   "outputs": [],
   "source": [
    "def plot_corr_heatmap(df, scale, title):\n",
    "    mask = np.zeros_like(df.values)\n",
    "    mask[df.values == 0] = True\n",
    "\n",
    "    fig, ax = plt.subplots(figsize=(12, 6))\n",
    "    plt.title(title, size=12)\n",
    "    sns.set(style='white', font_scale=1.)\n",
    "    sns.heatmap(df,\n",
    "                mask=mask,\n",
    "                square=True,\n",
    "                vmin=-scale,\n",
    "                vmax=scale,\n",
    "                cbar=False,\n",
    "                annot=False,\n",
    "                linewidths=.08,\n",
    "                linecolor='white',\n",
    "                cmap=\"RdBu_r\",\n",
    "                cbar_kws={\"shrink\": .5},\n",
    "                ax=ax)\n",
    "    cax = plt.gcf().axes[0]\n",
    "    cax.tick_params(labelsize=12)\n",
    "    fig.tight_layout()\n",
    "    # uncomment to save figure\n",
    "#     plt.savefig(\n",
    "#       os.path.join('presentations/', f'{title.replace(\" \", \"_\")}.png'),\n",
    "#       dpi=200,\n",
    "#       transparent=False)\n",
    "    plt.show()\n",
    "    plt.close(fig)"
   ]
  },
  {
   "cell_type": "code",
   "execution_count": 99,
   "metadata": {},
   "outputs": [
    {
     "name": "stdout",
     "output_type": "stream",
     "text": [
      "Shape of conn matrix: (30, 47, 47), shape of behav data: (30,)\n"
     ]
    },
    {
     "data": {
      "text/html": [
       "<div>\n",
       "<style scoped>\n",
       "    .dataframe tbody tr th:only-of-type {\n",
       "        vertical-align: middle;\n",
       "    }\n",
       "\n",
       "    .dataframe tbody tr th {\n",
       "        vertical-align: top;\n",
       "    }\n",
       "\n",
       "    .dataframe thead th {\n",
       "        text-align: right;\n",
       "    }\n",
       "</style>\n",
       "<table border=\"1\" class=\"dataframe\">\n",
       "  <thead>\n",
       "    <tr style=\"text-align: right;\">\n",
       "      <th></th>\n",
       "      <th>F7</th>\n",
       "      <th>F5</th>\n",
       "      <th>F3</th>\n",
       "      <th>FC5</th>\n",
       "      <th>FC3</th>\n",
       "      <th>F1</th>\n",
       "      <th>Fz</th>\n",
       "      <th>F2</th>\n",
       "      <th>FC1</th>\n",
       "      <th>FCz</th>\n",
       "      <th>...</th>\n",
       "      <th>CP6</th>\n",
       "      <th>P4</th>\n",
       "      <th>P6</th>\n",
       "      <th>P8</th>\n",
       "      <th>PO3</th>\n",
       "      <th>PO7</th>\n",
       "      <th>O1</th>\n",
       "      <th>PO4</th>\n",
       "      <th>PO8</th>\n",
       "      <th>O2</th>\n",
       "    </tr>\n",
       "  </thead>\n",
       "  <tbody>\n",
       "    <tr>\n",
       "      <th>F7</th>\n",
       "      <td>0.000000</td>\n",
       "      <td>0.000000</td>\n",
       "      <td>0.000000</td>\n",
       "      <td>0.000000</td>\n",
       "      <td>0.0</td>\n",
       "      <td>0.0</td>\n",
       "      <td>0.0</td>\n",
       "      <td>0.0</td>\n",
       "      <td>0.0</td>\n",
       "      <td>0.0</td>\n",
       "      <td>...</td>\n",
       "      <td>0.0</td>\n",
       "      <td>0.0</td>\n",
       "      <td>0.0</td>\n",
       "      <td>0.0</td>\n",
       "      <td>0.0</td>\n",
       "      <td>0.0</td>\n",
       "      <td>0.0</td>\n",
       "      <td>0.0</td>\n",
       "      <td>0.0</td>\n",
       "      <td>0.0</td>\n",
       "    </tr>\n",
       "    <tr>\n",
       "      <th>F5</th>\n",
       "      <td>0.048281</td>\n",
       "      <td>0.000000</td>\n",
       "      <td>0.000000</td>\n",
       "      <td>0.000000</td>\n",
       "      <td>0.0</td>\n",
       "      <td>0.0</td>\n",
       "      <td>0.0</td>\n",
       "      <td>0.0</td>\n",
       "      <td>0.0</td>\n",
       "      <td>0.0</td>\n",
       "      <td>...</td>\n",
       "      <td>0.0</td>\n",
       "      <td>0.0</td>\n",
       "      <td>0.0</td>\n",
       "      <td>0.0</td>\n",
       "      <td>0.0</td>\n",
       "      <td>0.0</td>\n",
       "      <td>0.0</td>\n",
       "      <td>0.0</td>\n",
       "      <td>0.0</td>\n",
       "      <td>0.0</td>\n",
       "    </tr>\n",
       "    <tr>\n",
       "      <th>F3</th>\n",
       "      <td>0.059183</td>\n",
       "      <td>0.017800</td>\n",
       "      <td>0.000000</td>\n",
       "      <td>0.000000</td>\n",
       "      <td>0.0</td>\n",
       "      <td>0.0</td>\n",
       "      <td>0.0</td>\n",
       "      <td>0.0</td>\n",
       "      <td>0.0</td>\n",
       "      <td>0.0</td>\n",
       "      <td>...</td>\n",
       "      <td>0.0</td>\n",
       "      <td>0.0</td>\n",
       "      <td>0.0</td>\n",
       "      <td>0.0</td>\n",
       "      <td>0.0</td>\n",
       "      <td>0.0</td>\n",
       "      <td>0.0</td>\n",
       "      <td>0.0</td>\n",
       "      <td>0.0</td>\n",
       "      <td>0.0</td>\n",
       "    </tr>\n",
       "    <tr>\n",
       "      <th>FC5</th>\n",
       "      <td>0.024029</td>\n",
       "      <td>-0.066971</td>\n",
       "      <td>0.011347</td>\n",
       "      <td>0.000000</td>\n",
       "      <td>0.0</td>\n",
       "      <td>0.0</td>\n",
       "      <td>0.0</td>\n",
       "      <td>0.0</td>\n",
       "      <td>0.0</td>\n",
       "      <td>0.0</td>\n",
       "      <td>...</td>\n",
       "      <td>0.0</td>\n",
       "      <td>0.0</td>\n",
       "      <td>0.0</td>\n",
       "      <td>0.0</td>\n",
       "      <td>0.0</td>\n",
       "      <td>0.0</td>\n",
       "      <td>0.0</td>\n",
       "      <td>0.0</td>\n",
       "      <td>0.0</td>\n",
       "      <td>0.0</td>\n",
       "    </tr>\n",
       "    <tr>\n",
       "      <th>FC3</th>\n",
       "      <td>-0.008010</td>\n",
       "      <td>0.132162</td>\n",
       "      <td>0.104350</td>\n",
       "      <td>0.026699</td>\n",
       "      <td>0.0</td>\n",
       "      <td>0.0</td>\n",
       "      <td>0.0</td>\n",
       "      <td>0.0</td>\n",
       "      <td>0.0</td>\n",
       "      <td>0.0</td>\n",
       "      <td>...</td>\n",
       "      <td>0.0</td>\n",
       "      <td>0.0</td>\n",
       "      <td>0.0</td>\n",
       "      <td>0.0</td>\n",
       "      <td>0.0</td>\n",
       "      <td>0.0</td>\n",
       "      <td>0.0</td>\n",
       "      <td>0.0</td>\n",
       "      <td>0.0</td>\n",
       "      <td>0.0</td>\n",
       "    </tr>\n",
       "  </tbody>\n",
       "</table>\n",
       "<p>5 rows × 47 columns</p>\n",
       "</div>"
      ],
      "text/plain": [
       "           F7        F5        F3       FC5  FC3   F1   Fz   F2  FC1  FCz  \\\n",
       "F7   0.000000  0.000000  0.000000  0.000000  0.0  0.0  0.0  0.0  0.0  0.0   \n",
       "F5   0.048281  0.000000  0.000000  0.000000  0.0  0.0  0.0  0.0  0.0  0.0   \n",
       "F3   0.059183  0.017800  0.000000  0.000000  0.0  0.0  0.0  0.0  0.0  0.0   \n",
       "FC5  0.024029 -0.066971  0.011347  0.000000  0.0  0.0  0.0  0.0  0.0  0.0   \n",
       "FC3 -0.008010  0.132162  0.104350  0.026699  0.0  0.0  0.0  0.0  0.0  0.0   \n",
       "\n",
       "     ...  CP6   P4   P6   P8  PO3  PO7   O1  PO4  PO8   O2  \n",
       "F7   ...  0.0  0.0  0.0  0.0  0.0  0.0  0.0  0.0  0.0  0.0  \n",
       "F5   ...  0.0  0.0  0.0  0.0  0.0  0.0  0.0  0.0  0.0  0.0  \n",
       "F3   ...  0.0  0.0  0.0  0.0  0.0  0.0  0.0  0.0  0.0  0.0  \n",
       "FC5  ...  0.0  0.0  0.0  0.0  0.0  0.0  0.0  0.0  0.0  0.0  \n",
       "FC3  ...  0.0  0.0  0.0  0.0  0.0  0.0  0.0  0.0  0.0  0.0  \n",
       "\n",
       "[5 rows x 47 columns]"
      ]
     },
     "execution_count": 99,
     "metadata": {},
     "output_type": "execute_result"
    }
   ],
   "source": [
    "freq_name = 'delta'\n",
    "rs_1_index = periods['rs'].index('ny_1')\n",
    "freq_index = freqs.index(freq_name)\n",
    "rs_1_delta = rs_wpli_ch_conn[:, rs_1_index, freq_index, ...]\n",
    "\n",
    "print(f'Shape of conn matrix: {rs_1_delta.shape}, shape of behav data: {behav_data[\"s1_hldif_rt\"].shape}')\n",
    "rs_1_delta_corr = uncorrected_spearmanr(conn=rs_1_delta, behav_vector=behav_data['s1_hldif_rt'])\n",
    "rs_1_delta_corr.head()"
   ]
  },
  {
   "cell_type": "code",
   "execution_count": 96,
   "metadata": {},
   "outputs": [
    {
     "data": {
      "image/png": "[encoded data removed]",
      "text/plain": [
       "<Figure size 864x432 with 1 Axes>"
      ]
     },
     "metadata": {},
     "output_type": "display_data"
    }
   ],
   "source": [
    "plot_corr_heatmap(df=rs_1_delta_corr, scale=0.6, title='RS1 delta - Session 1 HLDIF RT correlation')"
   ]
  },
  {
   "cell_type": "code",
   "execution_count": 98,
   "metadata": {},
   "outputs": [
    {
     "name": "stdout",
     "output_type": "stream",
     "text": [
      "Shape of conn matrix: (30, 11, 11), shape of behav data: (30,)\n"
     ]
    },
    {
     "data": {
      "image/png": "[encoded data removed]",
      "text/plain": [
       "<Figure size 864x432 with 1 Axes>"
      ]
     },
     "metadata": {},
     "output_type": "display_data"
    }
   ],
   "source": [
    "rs_1_delta_roi = rs_wpli_roi_conn[:, rs_1_index, freq_index, ...]\n",
    "\n",
    "print(f'Shape of conn matrix: {rs_1_delta_roi.shape}, shape of behav data: {behav_data[\"s1_hldif_rt\"].shape}')\n",
    "rs_1_delta_roi_corr = uncorrected_spearmanr(conn=rs_1_delta_roi, behav_vector=behav_data['s1_hldif_rt'])\n",
    "plot_corr_heatmap(df=rs_1_delta_roi_corr, scale=0.6, title='RS1 delta - Session 1 HLDIF RT correlation')"
   ]
  }
 ],
 "metadata": {
  "kernelspec": {
   "display_name": "Python 3",
   "language": "python",
   "name": "python3"
  },
  "language_info": {
   "codemirror_mode": {
    "name": "ipython",
    "version": 3
   },
   "file_extension": ".py",
   "mimetype": "text/x-python",
   "name": "python",
   "nbconvert_exporter": "python",
   "pygments_lexer": "ipython3",
   "version": "3.7.4"
  }
 },
 "nbformat": 4,
 "nbformat_minor": 4
}
